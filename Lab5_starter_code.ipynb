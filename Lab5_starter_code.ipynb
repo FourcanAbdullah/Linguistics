{
  "nbformat": 4,
  "nbformat_minor": 0,
  "metadata": {
    "colab": {
      "provenance": [],
      "include_colab_link": true
    },
    "kernelspec": {
      "name": "python3",
      "display_name": "Python 3"
    },
    "language_info": {
      "name": "python"
    }
  },
  "cells": [
    {
      "cell_type": "markdown",
      "metadata": {
        "id": "view-in-github",
        "colab_type": "text"
      },
      "source": [
        "<a href=\"https://colab.research.google.com/github/FourcanAbdullah/Linguistics/blob/main/Lab5_starter_code.ipynb\" target=\"_parent\"><img src=\"https://colab.research.google.com/assets/colab-badge.svg\" alt=\"Open In Colab\"/></a>"
      ]
    },
    {
      "cell_type": "code",
      "execution_count": null,
      "metadata": {
        "colab": {
          "base_uri": "https://localhost:8080/"
        },
        "id": "XrmxvmmvxkVW",
        "outputId": "3cde65db-a6f6-4e2e-a225-8dff7870696e"
      },
      "outputs": [
        {
          "output_type": "stream",
          "name": "stdout",
          "text": [
            "Requirement already satisfied: praat-parselmouth in /usr/local/lib/python3.10/dist-packages (0.4.5)\n",
            "Requirement already satisfied: numpy>=1.7.0 in /usr/local/lib/python3.10/dist-packages (from praat-parselmouth) (1.26.4)\n"
          ]
        }
      ],
      "source": [
        "!pip install praat-parselmouth\n",
        "\n",
        "import parselmouth\n",
        "from parselmouth.praat import call\n",
        "import urllib.request\n",
        "from urllib.request import urlretrieve\n",
        "\n"
      ]
    },
    {
      "cell_type": "markdown",
      "source": [],
      "metadata": {
        "id": "gahTIq3ktXSP"
      }
    },
    {
      "cell_type": "code",
      "source": [
        "MSP_url = \"http://www.cs.columbia.edu/~sarahita/CL/MSP_samples/\"\n",
        "emotion_files = ['angry.wav', 'disgust.wav', 'fear.wav', 'happy.wav', 'sad.wav', 'surprise.wav', 'neutral.wav']"
      ],
      "metadata": {
        "id": "-Ehr5Qc11IA0"
      },
      "execution_count": null,
      "outputs": []
    },
    {
      "cell_type": "code",
      "source": [
        "# download data\n",
        "!wget -nc http://www.cs.columbia.edu/~sarahita/CL/MSP_samples/angry.wav\n",
        "!wget -nc http://www.cs.columbia.edu/~sarahita/CL/MSP_samples/disgust.wav\n",
        "!wget -nc http://www.cs.columbia.edu/~sarahita/CL/MSP_samples/fear.wav\n",
        "!wget -nc http://www.cs.columbia.edu/~sarahita/CL/MSP_samples/happy.wav\n",
        "!wget -nc http://www.cs.columbia.edu/~sarahita/CL/MSP_samples/sad.wav\n",
        "!wget -nc http://www.cs.columbia.edu/~sarahita/CL/MSP_samples/surprise.wav\n",
        "!wget -nc http://www.cs.columbia.edu/~sarahita/CL/MSP_samples/neutral.wav"
      ],
      "metadata": {
        "colab": {
          "base_uri": "https://localhost:8080/"
        },
        "id": "uYZWicCV79n8",
        "outputId": "d1f6aeea-cc9c-43c4-9d1d-12d9b19eb923"
      },
      "execution_count": null,
      "outputs": [
        {
          "output_type": "stream",
          "name": "stdout",
          "text": [
            "--2024-12-03 12:54:54--  http://www.cs.columbia.edu/~sarahita/CL/MSP_samples/angry.wav\n",
            "Resolving www.cs.columbia.edu (www.cs.columbia.edu)... 128.59.11.206\n",
            "Connecting to www.cs.columbia.edu (www.cs.columbia.edu)|128.59.11.206|:80... connected.\n",
            "HTTP request sent, awaiting response... 200 OK\n",
            "Length: 128806 (126K) [audio/x-wav]\n",
            "Saving to: ‘angry.wav’\n",
            "\n",
            "angry.wav           100%[===================>] 125.79K   697KB/s    in 0.2s    \n",
            "\n",
            "2024-12-03 12:54:55 (697 KB/s) - ‘angry.wav’ saved [128806/128806]\n",
            "\n",
            "--2024-12-03 12:54:55--  http://www.cs.columbia.edu/~sarahita/CL/MSP_samples/disgust.wav\n",
            "Resolving www.cs.columbia.edu (www.cs.columbia.edu)... 128.59.11.206\n",
            "Connecting to www.cs.columbia.edu (www.cs.columbia.edu)|128.59.11.206|:80... connected.\n",
            "HTTP request sent, awaiting response... 200 OK\n",
            "Length: 186738 (182K) [audio/x-wav]\n",
            "Saving to: ‘disgust.wav’\n",
            "\n",
            "disgust.wav         100%[===================>] 182.36K   754KB/s    in 0.2s    \n",
            "\n",
            "2024-12-03 12:54:55 (754 KB/s) - ‘disgust.wav’ saved [186738/186738]\n",
            "\n",
            "--2024-12-03 12:54:55--  http://www.cs.columbia.edu/~sarahita/CL/MSP_samples/fear.wav\n",
            "Resolving www.cs.columbia.edu (www.cs.columbia.edu)... 128.59.11.206\n",
            "Connecting to www.cs.columbia.edu (www.cs.columbia.edu)|128.59.11.206|:80... connected.\n",
            "HTTP request sent, awaiting response... 200 OK\n",
            "Length: 339348 (331K) [audio/x-wav]\n",
            "Saving to: ‘fear.wav’\n",
            "\n",
            "fear.wav            100%[===================>] 331.39K  1.34MB/s    in 0.2s    \n",
            "\n",
            "2024-12-03 12:54:56 (1.34 MB/s) - ‘fear.wav’ saved [339348/339348]\n",
            "\n",
            "--2024-12-03 12:54:56--  http://www.cs.columbia.edu/~sarahita/CL/MSP_samples/happy.wav\n",
            "Resolving www.cs.columbia.edu (www.cs.columbia.edu)... 128.59.11.206\n",
            "Connecting to www.cs.columbia.edu (www.cs.columbia.edu)|128.59.11.206|:80... connected.\n",
            "HTTP request sent, awaiting response... 200 OK\n",
            "Length: 140846 (138K) [audio/x-wav]\n",
            "Saving to: ‘happy.wav’\n",
            "\n",
            "happy.wav           100%[===================>] 137.54K   758KB/s    in 0.2s    \n",
            "\n",
            "2024-12-03 12:54:56 (758 KB/s) - ‘happy.wav’ saved [140846/140846]\n",
            "\n",
            "--2024-12-03 12:54:56--  http://www.cs.columbia.edu/~sarahita/CL/MSP_samples/sad.wav\n",
            "Resolving www.cs.columbia.edu (www.cs.columbia.edu)... 128.59.11.206\n",
            "Connecting to www.cs.columbia.edu (www.cs.columbia.edu)|128.59.11.206|:80... connected.\n",
            "HTTP request sent, awaiting response... 200 OK\n",
            "Length: 235934 (230K) [audio/x-wav]\n",
            "Saving to: ‘sad.wav’\n",
            "\n",
            "sad.wav             100%[===================>] 230.40K   952KB/s    in 0.2s    \n",
            "\n",
            "2024-12-03 12:54:57 (952 KB/s) - ‘sad.wav’ saved [235934/235934]\n",
            "\n",
            "--2024-12-03 12:54:57--  http://www.cs.columbia.edu/~sarahita/CL/MSP_samples/surprise.wav\n",
            "Resolving www.cs.columbia.edu (www.cs.columbia.edu)... 128.59.11.206\n",
            "Connecting to www.cs.columbia.edu (www.cs.columbia.edu)|128.59.11.206|:80... connected.\n",
            "HTTP request sent, awaiting response... 200 OK\n",
            "Length: 143934 (141K) [audio/x-wav]\n",
            "Saving to: ‘surprise.wav’\n",
            "\n",
            "surprise.wav        100%[===================>] 140.56K   775KB/s    in 0.2s    \n",
            "\n",
            "2024-12-03 12:54:57 (775 KB/s) - ‘surprise.wav’ saved [143934/143934]\n",
            "\n",
            "--2024-12-03 12:54:57--  http://www.cs.columbia.edu/~sarahita/CL/MSP_samples/neutral.wav\n",
            "Resolving www.cs.columbia.edu (www.cs.columbia.edu)... 128.59.11.206\n",
            "Connecting to www.cs.columbia.edu (www.cs.columbia.edu)|128.59.11.206|:80... connected.\n",
            "HTTP request sent, awaiting response... 200 OK\n",
            "Length: 109804 (107K) [audio/x-wav]\n",
            "Saving to: ‘neutral.wav’\n",
            "\n",
            "neutral.wav         100%[===================>] 107.23K   586KB/s    in 0.2s    \n",
            "\n",
            "2024-12-03 12:54:58 (586 KB/s) - ‘neutral.wav’ saved [109804/109804]\n",
            "\n"
          ]
        }
      ]
    },
    {
      "cell_type": "code",
      "source": [
        "angry_sound = parselmouth.Sound(\"angry.wav\")\n"
      ],
      "metadata": {
        "id": "o214K12pzU4X"
      },
      "execution_count": null,
      "outputs": []
    },
    {
      "cell_type": "code",
      "source": [
        "# sound duration\n",
        "angry_sound.get_total_duration()\n"
      ],
      "metadata": {
        "colab": {
          "base_uri": "https://localhost:8080/"
        },
        "id": "sqRGsPgxz7Rt",
        "outputId": "73c60207-0d7b-4b76-f9d3-d93e6d0c1794"
      },
      "execution_count": null,
      "outputs": [
        {
          "output_type": "execute_result",
          "data": {
            "text/plain": [
              "4.0238125"
            ]
          },
          "metadata": {},
          "execution_count": 7
        }
      ]
    },
    {
      "cell_type": "code",
      "source": [
        "# extract pitch\n",
        "pitch = call(angry_sound, 'To Pitch', 0.0, 75.0, 600.0)"
      ],
      "metadata": {
        "id": "9KkXDZyU8xRQ"
      },
      "execution_count": null,
      "outputs": []
    },
    {
      "cell_type": "code",
      "source": [
        "# extract intensity\n",
        "intensity = call(angry_sound, 'To Intensity', 75.0, 0.0)"
      ],
      "metadata": {
        "id": "QmIrD4R189lA"
      },
      "execution_count": null,
      "outputs": []
    },
    {
      "cell_type": "code",
      "source": [
        "# useful github showing how to use parselmouth to extract acoustic-prosodic features:\n",
        "# https://github.com/drfeinberg/PraatScripts/blob/master/Measure%20Pitch%2C%20HNR%2C%20Jitter%2C%20Shimmer%2C%20and%20Formants.ipynb\n"
      ],
      "metadata": {
        "id": "Sry_M7E79Bex"
      },
      "execution_count": null,
      "outputs": []
    },
    {
      "cell_type": "code",
      "source": [],
      "metadata": {
        "id": "uA-TFN1eCI0D"
      },
      "execution_count": null,
      "outputs": []
    }
  ]
}